{
 "cells": [
  {
   "cell_type": "markdown",
   "metadata": {},
   "source": [
    "# LAB 1: Variables, arrays and scripts"
   ]
  },
  {
   "cell_type": "markdown",
   "metadata": {},
   "source": [
    "By Lexxi Reddington ~ April 8, 2019"
   ]
  },
  {
   "cell_type": "markdown",
   "metadata": {},
   "source": [
    "### 1. Read Chapter 1 and 2 from the Student's Guide and complete all the \"Your Turns\" in Chapter 2."
   ]
  },
  {
   "cell_type": "markdown",
   "metadata": {},
   "source": [
    "a) Your Turn 2A"
   ]
  },
  {
   "cell_type": "code",
   "execution_count": 5,
   "metadata": {},
   "outputs": [
    {
     "name": "stdout",
     "output_type": "stream",
     "text": [
      "[0. 0. 0. 0.]\n",
      "[[0. 0. 0. 0. 0.]\n",
      " [0. 0. 0. 0. 0.]\n",
      " [0. 0. 0. 0. 0.]]\n",
      "[1. 1. 1. 1.]\n",
      "[[1. 1. 1. 1. 1.]\n",
      " [1. 1. 1. 1. 1.]\n",
      " [1. 1. 1. 1. 1.]]\n",
      "[[1. 0. 0.]\n",
      " [0. 1. 0.]\n",
      " [0. 0. 1.]]\n"
     ]
    }
   ],
   "source": [
    "import numpy as np\n",
    "a = np.zeros(4)\n",
    "print(a)\n",
    "\n",
    "a = np.zeros((3,5))\n",
    "print(a)\n",
    "\n",
    "a = np.ones(4)\n",
    "print(a)\n",
    "\n",
    "a = np.ones((3,5))\n",
    "print(a)\n",
    "\n",
    "a = np.eye(3)\n",
    "print(a)"
   ]
  },
  {
   "cell_type": "markdown",
   "metadata": {},
   "source": [
    "b) Your Turn 2B"
   ]
  },
  {
   "cell_type": "code",
   "execution_count": 7,
   "metadata": {},
   "outputs": [
    {
     "name": "stdout",
     "output_type": "stream",
     "text": [
      "[[ 2  3  5]\n",
      " [ 7 11 13]]\n"
     ]
    }
   ],
   "source": [
    "a = np.array([[2, 3, 5],[7, 11, 13]])\n",
    "print(a)"
   ]
  },
  {
   "cell_type": "markdown",
   "metadata": {},
   "source": [
    "The result is a two-dimensional array with the first row specified by the 3 numbers in the first set of brackets and the second row specified by the 3 numbers in the second set of brackets"
   ]
  },
  {
   "cell_type": "markdown",
   "metadata": {},
   "source": [
    "c) Your Turn 2C"
   ]
  },
  {
   "cell_type": "code",
   "execution_count": 8,
   "metadata": {},
   "outputs": [
    {
     "name": "stdout",
     "output_type": "stream",
     "text": [
      "[0 2 4 6 8]\n",
      "[ 0.  2.  4.  6.  8. 10.]\n"
     ]
    }
   ],
   "source": [
    "a = np.arange(0, 10, 2)\n",
    "print(a)\n",
    "b = np.linspace(0, 10, 6)\n",
    "print(b)"
   ]
  },
  {
   "cell_type": "markdown",
   "metadata": {},
   "source": [
    "The result of a is an array starting at 0 and going to 10 (non-inclusive) in increments of 2\n",
    "The result of b is an array starting at 0 and going to 10 with 6 points total, so 10 is included here"
   ]
  },
  {
   "cell_type": "code",
   "execution_count": 11,
   "metadata": {},
   "outputs": [
    {
     "name": "stdout",
     "output_type": "stream",
     "text": [
      "[ 0  2  4  6  8 10]\n",
      "[ 0.  2.  4.  6.  8. 10.]\n"
     ]
    }
   ],
   "source": [
    "a = np.arange(0, 12, 2)\n",
    "print(a)\n",
    "b = np.linspace(0, 10, 6)\n",
    "print(b)"
   ]
  },
  {
   "cell_type": "markdown",
   "metadata": {},
   "source": [
    "Now the two arrays are the same, as desired"
   ]
  },
  {
   "cell_type": "code",
   "execution_count": 12,
   "metadata": {},
   "outputs": [
    {
     "name": "stdout",
     "output_type": "stream",
     "text": [
      "[0.  1.5 3.  4.5 6.  7.5 9. ]\n",
      "[ 0.          1.66666667  3.33333333  5.          6.66666667  8.33333333\n",
      " 10.        ]\n"
     ]
    }
   ],
   "source": [
    "a = np.arange(0, 10, 1.5)\n",
    "print(a)\n",
    "b = np.linspace(0, 10, 7)\n",
    "print(b)"
   ]
  },
  {
   "cell_type": "markdown",
   "metadata": {},
   "source": [
    "a and b differ because the method arange is creating an array specified by a start point, an endpoint, and a step, so we get 0 through 10 in steps of 1.5. 10 is not included here because when we add 9 + 1.5 it is more than 10. Conversely, the method linspace is creating an array specified by a start point, an endpoint, and the number of points total. In this case, we get 7 points, including 0 and 10, all equally spaced. The difference between how these 2 methods operate is reflected in a and b. If you want to evaluate a function over the range 0 to 10, the method you would want to use depends on how you want to evaluate the function. Both methods provide an array of equally spaced points, but depending on how the methods are used, we get different results. "
   ]
  },
  {
   "cell_type": "markdown",
   "metadata": {},
   "source": [
    "d) Your Turn 2D"
   ]
  },
  {
   "cell_type": "code",
   "execution_count": 18,
   "metadata": {},
   "outputs": [
    {
     "name": "stdout",
     "output_type": "stream",
     "text": [
      "[ 0  1  2  3  4  5  6  7  8  9 10 11 12 13 14 15 16 17 18 19]\n",
      "[ 0  1  2  3  4  5  6  7  8  9 10 11 12 13 14 15 16 17 18 19]\n",
      "[ 0  1  2  3  4  5  6  7  8  9 10 11 12 13 14 15 16 17 18 19]\n",
      "[ 5  6  7  8  9 10 11 12 13 14]\n",
      "[ 5  8 11 14]\n",
      "[ 5  6  7  8  9 10 11 12 13 14 15 16 17 18 19]\n",
      "[0 1 2 3 4]\n",
      "[ 0  5 10 15]\n"
     ]
    }
   ],
   "source": [
    "a = np.arange(20)\n",
    "print(a)\n",
    "print(a[:])\n",
    "print(a[::])\n",
    "print(a[5:15])\n",
    "print(a[5:15:3])\n",
    "print(a[5::])\n",
    "print(a[:5:])\n",
    "print(a[::5])"
   ]
  },
  {
   "cell_type": "markdown",
   "metadata": {},
   "source": [
    "Line 1 creates an array from 0 to 19 in increments of 1\n",
    "Line 2 prints this array\n",
    "Line 3 slices then prints the array such that all values in the array are shown\n",
    "Line 4 slices then prints the array such that, again, all values in the array are shown\n",
    "Line 5 slices then prints the array such that the start is 5, the end is 15, and the stride is omitted, so by default it is 1. We get 5 to 14 in steps of 1\n",
    "Line 6 slices then prints the array such that the start is 5, the end is 15, and the stride is 3, so we get 5 to 14 in steps of 3\n",
    "Line 7 slices then prints the array such that the start is 5, the end is omitted, so by default it is the end of the array, and the stride is omitted so by default it is 1. We therefore get an array starting at 5, ending at 19, with increments of 1\n",
    "Line 8 slices then prints the array such that the start is omitted, so it is the start of the array by default, the end is 5, and the stride is omitted so it is 1 by default. We get an array from 0 to 4 in steps of 1\n",
    "Line 9 slices then prints the array such that the start is omitted, so it is the start of the array by default, the end is omitted, so it is the end of the array by default, and the stride is 5. We get an array starting at 0, ending at 15, in steps of 5"
   ]
  },
  {
   "cell_type": "markdown",
   "metadata": {},
   "source": [
    "e) Your Turn 2E"
   ]
  },
  {
   "cell_type": "code",
   "execution_count": 21,
   "metadata": {},
   "outputs": [
    {
     "data": {
      "text/plain": [
       "'Hello world! I am Python.'"
      ]
     },
     "execution_count": 21,
     "metadata": {},
     "output_type": "execute_result"
    }
   ],
   "source": [
    "s = 'Hello, world!'\n",
    "t = 'I am Python.'\n",
    "s+' '+t"
   ]
  },
  {
   "cell_type": "markdown",
   "metadata": {},
   "source": [
    "When we just type s + t we get 'Hello, world!I am Python.' What we want is a space between '!' and 'I'. To do this, we need to add a space between the end of s and the start of t. The expression: s+' '+t does the trick. All we are doing is concatenating the space onto s, before t, so that the final String that is printed is formatted correctly."
   ]
  },
  {
   "cell_type": "markdown",
   "metadata": {},
   "source": [
    "### 2. Write a single script that calculates the following expressions (check your answers with a regular calculator!): "
   ]
  },
  {
   "cell_type": "markdown",
   "metadata": {},
   "source": [
    "$a=\\frac{2+e^{2.8}}{\\sqrt{13}-2}$"
   ]
  },
  {
   "cell_type": "code",
   "execution_count": 71,
   "metadata": {
    "scrolled": true
   },
   "outputs": [
    {
     "name": "stdout",
     "output_type": "stream",
     "text": [
      "11.488045914800647\n"
     ]
    }
   ],
   "source": [
    "a = (2 + math.exp(2.8)) / (math.sqrt(13) - 2)\n",
    "print(a)"
   ]
  },
  {
   "cell_type": "markdown",
   "metadata": {},
   "source": [
    "$b=\\frac{1-(1+\\text{ln}2)^{-3.5}}{1+\\sqrt{5}}$"
   ]
  },
  {
   "cell_type": "code",
   "execution_count": 73,
   "metadata": {},
   "outputs": [
    {
     "name": "stdout",
     "output_type": "stream",
     "text": [
      "0.26008973689431575\n"
     ]
    }
   ],
   "source": [
    "b = (1 - (1 + math.log(2, math.e))**-3.5) / (1 + math.sqrt(5))\n",
    "print(b)"
   ]
  },
  {
   "cell_type": "markdown",
   "metadata": {},
   "source": [
    "$c=\\text{sin}\\left(\\frac{2-\\sqrt{2}}{2+\\sqrt{2}}\\right)$"
   ]
  },
  {
   "cell_type": "code",
   "execution_count": 74,
   "metadata": {},
   "outputs": [
    {
     "name": "stdout",
     "output_type": "stream",
     "text": [
      "0.17073234104506005\n"
     ]
    }
   ],
   "source": [
    "x = (2 - math.sqrt(2)) / (2 + math.sqrt(2))\n",
    "c = math.sin(x)\n",
    "print(c)"
   ]
  },
  {
   "cell_type": "markdown",
   "metadata": {},
   "source": [
    "### 3. Given a, b, and c as inputs, write a script that gives the numerical values of the two solutions (real and complex) of the general quadratic equation: "
   ]
  },
  {
   "cell_type": "markdown",
   "metadata": {},
   "source": [
    "$ax^2+bx+c=0$"
   ]
  },
  {
   "cell_type": "markdown",
   "metadata": {},
   "source": [
    "#### a) See what happens if $a=1, b=2, c=3$ to make sure you have included complex solutions."
   ]
  },
  {
   "cell_type": "code",
   "execution_count": 53,
   "metadata": {},
   "outputs": [
    {
     "name": "stdout",
     "output_type": "stream",
     "text": [
      "The solutions are (-1-1.4142135623730951j) and (-1+1.4142135623730951j)\n"
     ]
    }
   ],
   "source": [
    "import cmath\n",
    "import math\n",
    "\n",
    "a = 1\n",
    "b = 2\n",
    "c = 3\n",
    "\n",
    "#Calculate the discriminant\n",
    "d = (b**2) - (4*a*c)\n",
    "\n",
    "#Find the two solutions\n",
    "solution1 = (-b-cmath.sqrt(d))/(2*a)\n",
    "solution2 = (-b+cmath.sqrt(d))/(2*a)\n",
    "\n",
    "#Print the solutions to the quadratic equation\n",
    "print(\"The solutions are {0} and {1}\".format(solution1,solution2))"
   ]
  },
  {
   "cell_type": "markdown",
   "metadata": {},
   "source": [
    "#### b) Make your script check the solutions, and print out the solutions including the results of your check."
   ]
  },
  {
   "cell_type": "code",
   "execution_count": 52,
   "metadata": {},
   "outputs": [
    {
     "name": "stdout",
     "output_type": "stream",
     "text": [
      "When the first solution is plugged back into the equation, the result is 0j as expected\n",
      "When the second solution is plugged back into the equation, the result is 0j as expected\n"
     ]
    }
   ],
   "source": [
    "#Check that the solutions are correct\n",
    "check1 = (a*(solution1**2)) + (b*solution1) + c\n",
    "print(\"When the first solution is plugged back into the equation, the result is\",round(check1.real, 4) + round(check1.imag, 4) * 1j,\"as expected\") #Should be 0\n",
    "\n",
    "check2 = (a*(solution2**2)) + (b*solution2) + c\n",
    "print(\"When the second solution is plugged back into the equation, the result is\",round(check2.real, 4) + round(check2.imag, 4) * 1j,\"as expected\") #Should be 0"
   ]
  },
  {
   "cell_type": "markdown",
   "metadata": {},
   "source": [
    "### 4. Create the following arrays:"
   ]
  },
  {
   "cell_type": "markdown",
   "metadata": {},
   "source": [
    "#### a) an array of 100 elements all equal to $e$, the base of the natural logarithm"
   ]
  },
  {
   "cell_type": "code",
   "execution_count": 89,
   "metadata": {},
   "outputs": [
    {
     "name": "stdout",
     "output_type": "stream",
     "text": [
      "[2.718281828459045, 2.718281828459045, 2.718281828459045, 2.718281828459045, 2.718281828459045, 2.718281828459045, 2.718281828459045, 2.718281828459045, 2.718281828459045, 2.718281828459045, 2.718281828459045, 2.718281828459045, 2.718281828459045, 2.718281828459045, 2.718281828459045, 2.718281828459045, 2.718281828459045, 2.718281828459045, 2.718281828459045, 2.718281828459045, 2.718281828459045, 2.718281828459045, 2.718281828459045, 2.718281828459045, 2.718281828459045, 2.718281828459045, 2.718281828459045, 2.718281828459045, 2.718281828459045, 2.718281828459045, 2.718281828459045, 2.718281828459045, 2.718281828459045, 2.718281828459045, 2.718281828459045, 2.718281828459045, 2.718281828459045, 2.718281828459045, 2.718281828459045, 2.718281828459045, 2.718281828459045, 2.718281828459045, 2.718281828459045, 2.718281828459045, 2.718281828459045, 2.718281828459045, 2.718281828459045, 2.718281828459045, 2.718281828459045, 2.718281828459045, 2.718281828459045, 2.718281828459045, 2.718281828459045, 2.718281828459045, 2.718281828459045, 2.718281828459045, 2.718281828459045, 2.718281828459045, 2.718281828459045, 2.718281828459045, 2.718281828459045, 2.718281828459045, 2.718281828459045, 2.718281828459045, 2.718281828459045, 2.718281828459045, 2.718281828459045, 2.718281828459045, 2.718281828459045, 2.718281828459045, 2.718281828459045, 2.718281828459045, 2.718281828459045, 2.718281828459045, 2.718281828459045, 2.718281828459045, 2.718281828459045, 2.718281828459045, 2.718281828459045, 2.718281828459045, 2.718281828459045, 2.718281828459045, 2.718281828459045, 2.718281828459045, 2.718281828459045, 2.718281828459045, 2.718281828459045, 2.718281828459045, 2.718281828459045, 2.718281828459045, 2.718281828459045, 2.718281828459045, 2.718281828459045, 2.718281828459045, 2.718281828459045, 2.718281828459045, 2.718281828459045, 2.718281828459045, 2.718281828459045, 2.718281828459045]\n",
      "The length of this array is 100\n"
     ]
    }
   ],
   "source": [
    "arr = []\n",
    "for i in range(100):\n",
    "    arr.append(math.e)\n",
    "print(arr)\n",
    "print(\"The length of this array is\",len(arr))"
   ]
  },
  {
   "cell_type": "markdown",
   "metadata": {},
   "source": [
    "#### b) an array in 1-degree increments of all the angles in degrees from 0 to 360 degrees inclusive"
   ]
  },
  {
   "cell_type": "code",
   "execution_count": 60,
   "metadata": {},
   "outputs": [
    {
     "name": "stdout",
     "output_type": "stream",
     "text": [
      "[0, 1, 2, 3, 4, 5, 6, 7, 8, 9, 10, 11, 12, 13, 14, 15, 16, 17, 18, 19, 20, 21, 22, 23, 24, 25, 26, 27, 28, 29, 30, 31, 32, 33, 34, 35, 36, 37, 38, 39, 40, 41, 42, 43, 44, 45, 46, 47, 48, 49, 50, 51, 52, 53, 54, 55, 56, 57, 58, 59, 60, 61, 62, 63, 64, 65, 66, 67, 68, 69, 70, 71, 72, 73, 74, 75, 76, 77, 78, 79, 80, 81, 82, 83, 84, 85, 86, 87, 88, 89, 90, 91, 92, 93, 94, 95, 96, 97, 98, 99, 100, 101, 102, 103, 104, 105, 106, 107, 108, 109, 110, 111, 112, 113, 114, 115, 116, 117, 118, 119, 120, 121, 122, 123, 124, 125, 126, 127, 128, 129, 130, 131, 132, 133, 134, 135, 136, 137, 138, 139, 140, 141, 142, 143, 144, 145, 146, 147, 148, 149, 150, 151, 152, 153, 154, 155, 156, 157, 158, 159, 160, 161, 162, 163, 164, 165, 166, 167, 168, 169, 170, 171, 172, 173, 174, 175, 176, 177, 178, 179, 180, 181, 182, 183, 184, 185, 186, 187, 188, 189, 190, 191, 192, 193, 194, 195, 196, 197, 198, 199, 200, 201, 202, 203, 204, 205, 206, 207, 208, 209, 210, 211, 212, 213, 214, 215, 216, 217, 218, 219, 220, 221, 222, 223, 224, 225, 226, 227, 228, 229, 230, 231, 232, 233, 234, 235, 236, 237, 238, 239, 240, 241, 242, 243, 244, 245, 246, 247, 248, 249, 250, 251, 252, 253, 254, 255, 256, 257, 258, 259, 260, 261, 262, 263, 264, 265, 266, 267, 268, 269, 270, 271, 272, 273, 274, 275, 276, 277, 278, 279, 280, 281, 282, 283, 284, 285, 286, 287, 288, 289, 290, 291, 292, 293, 294, 295, 296, 297, 298, 299, 300, 301, 302, 303, 304, 305, 306, 307, 308, 309, 310, 311, 312, 313, 314, 315, 316, 317, 318, 319, 320, 321, 322, 323, 324, 325, 326, 327, 328, 329, 330, 331, 332, 333, 334, 335, 336, 337, 338, 339, 340, 341, 342, 343, 344, 345, 346, 347, 348, 349, 350, 351, 352, 353, 354, 355, 356, 357, 358, 359, 360]\n"
     ]
    }
   ],
   "source": [
    "arr_deg = []\n",
    "for i in range(361):\n",
    "    arr_deg.append(i)\n",
    "print(arr_deg)"
   ]
  },
  {
   "cell_type": "markdown",
   "metadata": {},
   "source": [
    "#### c) an array in 1-degree increments of all the angles in radians from 0 to 360 degrees inclusive. Verify your answers by generating a third array of zeros when you perform the appropriate operations between the arrays you created in b) and c)"
   ]
  },
  {
   "cell_type": "code",
   "execution_count": 64,
   "metadata": {},
   "outputs": [
    {
     "name": "stdout",
     "output_type": "stream",
     "text": [
      "[0.0, 0.017453292519943295, 0.03490658503988659, 0.05235987755982989, 0.06981317007977318, 0.08726646259971647, 0.10471975511965978, 0.12217304763960307, 0.13962634015954636, 0.15707963267948966, 0.17453292519943295, 0.19198621771937624, 0.20943951023931956, 0.22689280275926285, 0.24434609527920614, 0.2617993877991494, 0.2792526803190927, 0.29670597283903605, 0.3141592653589793, 0.33161255787892263, 0.3490658503988659, 0.3665191429188092, 0.3839724354387525, 0.4014257279586958, 0.4188790204786391, 0.4363323129985824, 0.4537856055185257, 0.47123889803846897, 0.4886921905584123, 0.5061454830783556, 0.5235987755982988, 0.5410520681182421, 0.5585053606381855, 0.5759586531581288, 0.5934119456780721, 0.6108652381980153, 0.6283185307179586, 0.6457718232379019, 0.6632251157578453, 0.6806784082777885, 0.6981317007977318, 0.7155849933176751, 0.7330382858376184, 0.7504915783575618, 0.767944870877505, 0.7853981633974483, 0.8028514559173916, 0.8203047484373349, 0.8377580409572782, 0.8552113334772214, 0.8726646259971648, 0.8901179185171081, 0.9075712110370514, 0.9250245035569946, 0.9424777960769379, 0.9599310885968813, 0.9773843811168246, 0.9948376736367679, 1.0122909661567112, 1.0297442586766545, 1.0471975511965976, 1.064650843716541, 1.0821041362364843, 1.0995574287564276, 1.117010721276371, 1.1344640137963142, 1.1519173063162575, 1.1693705988362009, 1.1868238913561442, 1.2042771838760873, 1.2217304763960306, 1.239183768915974, 1.2566370614359172, 1.2740903539558606, 1.2915436464758039, 1.3089969389957472, 1.3264502315156905, 1.3439035240356338, 1.361356816555577, 1.3788101090755203, 1.3962634015954636, 1.413716694115407, 1.4311699866353502, 1.4486232791552935, 1.4660765716752369, 1.4835298641951802, 1.5009831567151235, 1.5184364492350666, 1.53588974175501, 1.5533430342749532, 1.5707963267948966, 1.5882496193148399, 1.6057029118347832, 1.6231562043547265, 1.6406094968746698, 1.6580627893946132, 1.6755160819145565, 1.6929693744344996, 1.710422666954443, 1.7278759594743862, 1.7453292519943295, 1.7627825445142729, 1.7802358370342162, 1.7976891295541595, 1.8151424220741028, 1.8325957145940461, 1.8500490071139892, 1.8675022996339325, 1.8849555921538759, 1.9024088846738192, 1.9198621771937625, 1.9373154697137058, 1.9547687622336491, 1.9722220547535925, 1.9896753472735358, 2.007128639793479, 2.0245819323134224, 2.0420352248333655, 2.059488517353309, 2.076941809873252, 2.0943951023931953, 2.111848394913139, 2.129301687433082, 2.1467549799530254, 2.1642082724729685, 2.181661564992912, 2.199114857512855, 2.2165681500327987, 2.234021442552742, 2.251474735072685, 2.2689280275926285, 2.2863813201125716, 2.303834612632515, 2.321287905152458, 2.3387411976724017, 2.356194490192345, 2.3736477827122884, 2.3911010752322315, 2.4085543677521746, 2.426007660272118, 2.443460952792061, 2.4609142453120048, 2.478367537831948, 2.4958208303518914, 2.5132741228718345, 2.530727415391778, 2.548180707911721, 2.5656340004316642, 2.5830872929516078, 2.600540585471551, 2.6179938779914944, 2.6354471705114375, 2.652900463031381, 2.670353755551324, 2.6878070480712677, 2.705260340591211, 2.722713633111154, 2.7401669256310974, 2.7576202181510405, 2.775073510670984, 2.792526803190927, 2.8099800957108707, 2.827433388230814, 2.8448866807507573, 2.8623399732707004, 2.8797932657906435, 2.897246558310587, 2.91469985083053, 2.9321531433504737, 2.949606435870417, 2.9670597283903604, 2.9845130209103035, 3.001966313430247, 3.01941960595019, 3.036872898470133, 3.0543261909900767, 3.07177948351002, 3.0892327760299634, 3.1066860685499065, 3.12413936106985, 3.141592653589793, 3.1590459461097367, 3.1764992386296798, 3.193952531149623, 3.2114058236695664, 3.2288591161895095, 3.246312408709453, 3.263765701229396, 3.2812189937493397, 3.2986722862692828, 3.3161255787892263, 3.3335788713091694, 3.351032163829113, 3.368485456349056, 3.385938748868999, 3.4033920413889427, 3.420845333908886, 3.4382986264288293, 3.4557519189487724, 3.473205211468716, 3.490658503988659, 3.5081117965086026, 3.5255650890285457, 3.543018381548489, 3.5604716740684323, 3.5779249665883754, 3.595378259108319, 3.612831551628262, 3.6302848441482056, 3.6477381366681487, 3.6651914291880923, 3.6826447217080354, 3.7000980142279785, 3.717551306747922, 3.735004599267865, 3.7524578917878086, 3.7699111843077517, 3.7873644768276953, 3.8048177693476384, 3.822271061867582, 3.839724354387525, 3.857177646907468, 3.8746309394274117, 3.8920842319473548, 3.9095375244672983, 3.9269908169872414, 3.944444109507185, 3.961897402027128, 3.9793506945470716, 3.9968039870670147, 4.014257279586958, 4.031710572106901, 4.049163864626845, 4.066617157146788, 4.084070449666731, 4.101523742186674, 4.118977034706618, 4.136430327226561, 4.153883619746504, 4.171336912266447, 4.1887902047863905, 4.2062434973063345, 4.223696789826278, 4.241150082346221, 4.258603374866164, 4.276056667386108, 4.293509959906051, 4.310963252425994, 4.328416544945937, 4.34586983746588, 4.363323129985824, 4.380776422505767, 4.39822971502571, 4.4156830075456535, 4.4331363000655974, 4.4505895925855405, 4.468042885105484, 4.485496177625427, 4.50294947014537, 4.520402762665314, 4.537856055185257, 4.5553093477052, 4.572762640225143, 4.590215932745087, 4.60766922526503, 4.625122517784973, 4.642575810304916, 4.6600291028248595, 4.6774823953448035, 4.694935687864747, 4.71238898038469, 4.729842272904633, 4.747295565424577, 4.76474885794452, 4.782202150464463, 4.799655442984406, 4.817108735504349, 4.834562028024293, 4.852015320544236, 4.869468613064179, 4.886921905584122, 4.904375198104066, 4.9218284906240095, 4.939281783143953, 4.956735075663896, 4.974188368183839, 4.991641660703783, 5.009094953223726, 5.026548245743669, 5.044001538263612, 5.061454830783556, 5.078908123303499, 5.096361415823442, 5.113814708343385, 5.1312680008633285, 5.1487212933832724, 5.1661745859032155, 5.183627878423159, 5.201081170943102, 5.218534463463046, 5.235987755982989, 5.253441048502932, 5.270894341022875, 5.288347633542818, 5.305800926062762, 5.323254218582705, 5.340707511102648, 5.358160803622591, 5.375614096142535, 5.3930673886624785, 5.410520681182422, 5.427973973702365, 5.445427266222308, 5.462880558742252, 5.480333851262195, 5.497787143782138, 5.515240436302081, 5.532693728822025, 5.550147021341968, 5.567600313861911, 5.585053606381854, 5.602506898901797, 5.619960191421741, 5.6374134839416845, 5.654866776461628, 5.672320068981571, 5.689773361501515, 5.707226654021458, 5.724679946541401, 5.742133239061344, 5.759586531581287, 5.777039824101231, 5.794493116621174, 5.811946409141117, 5.82939970166106, 5.846852994181004, 5.8643062867009474, 5.8817595792208905, 5.899212871740834, 5.916666164260777, 5.934119456780721, 5.951572749300664, 5.969026041820607, 5.98647933434055, 6.003932626860494, 6.021385919380437, 6.03883921190038, 6.056292504420323, 6.073745796940266, 6.09119908946021, 6.1086523819801535, 6.126105674500097, 6.14355896702004, 6.161012259539984, 6.178465552059927, 6.19591884457987, 6.213372137099813, 6.230825429619756, 6.2482787221397, 6.265732014659643, 6.283185307179586]\n",
      "\n",
      "[0.0, 0.0, 0.0, -0.0, 0.0, 0.0, -0.0, 0.0, 0.0, 0.0, 0.0, 0.0, -0.0, 0.0, 0.0, 0.0, 0.0, 0.0, 0.0, 0.0, 0.0, 0.0, 0.0, 0.0, -0.0, 0.0, 0.0, 0.0, 0.0, -0.0, 0.0, 0.0, 0.0, 0.0, 0.0, 0.0, 0.0, 0.0, 0.0, 0.0, 0.0, 0.0, 0.0, 0.0, 0.0, 0.0, 0.0, 0.0, -0.0, 0.0, 0.0, 0.0, 0.0, 0.0, 0.0, 0.0, 0.0, -0.0, -0.0, -0.0, 0.0, 0.0, 0.0, 0.0, 0.0, 0.0, 0.0, 0.0, 0.0, 0.0, 0.0, 0.0, 0.0, 0.0, 0.0, 0.0, 0.0, 0.0, 0.0, 0.0, 0.0, 0.0, 0.0, 0.0, 0.0, 0.0, 0.0, 0.0, 0.0, 0.0, 0.0, 0.0, 0.0, 0.0, 0.0, 0.0, -0.0, 0.0, 0.0, 0.0, 0.0, 0.0, 0.0, 0.0, 0.0, -0.0, 0.0, 0.0, 0.0, 0.0, 0.0, 0.0, 0.0, 0.0, -0.0, 0.0, -0.0, 0.0, -0.0, 0.0, 0.0, 0.0, 0.0, -0.0, 0.0, -0.0, 0.0, -0.0, 0.0, 0.0, 0.0, 0.0, 0.0, 0.0, 0.0, 0.0, 0.0, 0.0, 0.0, 0.0, 0.0, 0.0, 0.0, 0.0, 0.0, 0.0, 0.0, 0.0, 0.0, 0.0, 0.0, 0.0, 0.0, 0.0, 0.0, 0.0, 0.0, 0.0, 0.0, 0.0, 0.0, 0.0, 0.0, 0.0, 0.0, 0.0, 0.0, 0.0, 0.0, 0.0, 0.0, 0.0, 0.0, 0.0, 0.0, 0.0, 0.0, 0.0, 0.0, 0.0, 0.0, 0.0, 0.0, 0.0, 0.0, 0.0, 0.0, 0.0, 0.0, 0.0, 0.0, 0.0, -0.0, 0.0, 0.0, 0.0, 0.0, 0.0, 0.0, 0.0, 0.0, -0.0, 0.0, 0.0, 0.0, 0.0, 0.0, 0.0, 0.0, 0.0, -0.0, 0.0, 0.0, 0.0, 0.0, 0.0, 0.0, 0.0, 0.0, -0.0, 0.0, 0.0, 0.0, 0.0, 0.0, 0.0, 0.0, 0.0, -0.0, 0.0, 0.0, 0.0, -0.0, 0.0, 0.0, 0.0, -0.0, -0.0, 0.0, 0.0, 0.0, -0.0, 0.0, 0.0, 0.0, -0.0, -0.0, 0.0, 0.0, 0.0, -0.0, 0.0, 0.0, 0.0, -0.0, -0.0, 0.0, 0.0, 0.0, 0.0, 0.0, 0.0, 0.0, 0.0, 0.0, 0.0, 0.0, 0.0, 0.0, 0.0, 0.0, 0.0, 0.0, 0.0, 0.0, 0.0, 0.0, 0.0, 0.0, 0.0, 0.0, 0.0, 0.0, 0.0, 0.0, 0.0, 0.0, 0.0, 0.0, 0.0, 0.0, 0.0, 0.0, 0.0, 0.0, 0.0, 0.0, 0.0, 0.0, 0.0, 0.0, 0.0, 0.0, 0.0, 0.0, 0.0, 0.0, 0.0, 0.0, 0.0, 0.0, 0.0, 0.0, 0.0, 0.0, 0.0, 0.0, 0.0, 0.0, 0.0, 0.0, 0.0, 0.0, 0.0, 0.0, 0.0, 0.0, 0.0, 0.0, 0.0, 0.0, 0.0, 0.0, 0.0, 0.0, 0.0, 0.0, 0.0, 0.0, 0.0, 0.0, 0.0, 0.0, 0.0, 0.0, 0.0, 0.0, 0.0, 0.0, 0.0, 0.0, 0.0, 0.0, 0.0, 0.0, 0.0, 0.0, 0.0, 0.0, 0.0, 0.0]\n"
     ]
    }
   ],
   "source": [
    "arr_rad = []\n",
    "for i in range(361):\n",
    "    arr_rad.append(i*(math.pi/180))\n",
    "print(arr_rad)\n",
    "\n",
    "compare = []\n",
    "for i in range(len(arr_deg)):\n",
    "    value = round(arr_deg[i] - (arr_rad[i]*(180/math.pi)), 2)\n",
    "    compare.append(value)\n",
    "print()\n",
    "print(compare)"
   ]
  },
  {
   "cell_type": "markdown",
   "metadata": {},
   "source": [
    "#### d) an array from 12 to 17, not including 17, in 0.2 increments"
   ]
  },
  {
   "cell_type": "code",
   "execution_count": 87,
   "metadata": {},
   "outputs": [
    {
     "name": "stdout",
     "output_type": "stream",
     "text": [
      "[12.0, 12.2, 12.4, 12.6, 12.8, 13.0, 13.2, 13.4, 13.6, 13.8, 14.0, 14.2, 14.4, 14.6, 14.8, 15.0, 15.2, 15.4, 15.6, 15.8, 16.0, 16.2, 16.4, 16.6, 16.8]\n"
     ]
    }
   ],
   "source": [
    "import numpy as np\n",
    "arr = []\n",
    "for i in np.arange(12, 17, 0.2):\n",
    "    arr.append(round(i,2))\n",
    "print(arr)"
   ]
  },
  {
   "cell_type": "markdown",
   "metadata": {},
   "source": [
    "#### e) an array from 12 to 17, including 17, in 0.2 increments"
   ]
  },
  {
   "cell_type": "code",
   "execution_count": 88,
   "metadata": {},
   "outputs": [
    {
     "name": "stdout",
     "output_type": "stream",
     "text": [
      "[12.0, 12.2, 12.4, 12.6, 12.8, 13.0, 13.2, 13.4, 13.6, 13.8, 14.0, 14.2, 14.4, 14.6, 14.8, 15.0, 15.2, 15.4, 15.6, 15.8, 16.0, 16.2, 16.4, 16.6, 16.8, 17.0]\n"
     ]
    }
   ],
   "source": [
    "arr = []\n",
    "for i in np.arange(12, 17.2, 0.2):\n",
    "    arr.append(round(i,2))\n",
    "print(arr)"
   ]
  },
  {
   "cell_type": "markdown",
   "metadata": {},
   "source": [
    "### 5. The position of a ball at time $t$ dropped from rest, from a height $h_0$ is given by $y=h_0-\\frac{1}{2}gt^2$. Suppose $h_0 =10 m$. "
   ]
  },
  {
   "cell_type": "markdown",
   "metadata": {},
   "source": [
    "#### a) Find and print out the sequence of times when the ball passes each half meter assuming the ball is dropped at $t=0$."
   ]
  },
  {
   "cell_type": "code",
   "execution_count": 92,
   "metadata": {},
   "outputs": [
    {
     "name": "stdout",
     "output_type": "stream",
     "text": [
      "[0.0, 0.3194382824999699, 0.4517539514526256, 0.5532833351724881, 0.6388765649999398, 0.7142857142857143, 0.7824607964359516, 0.8451542547285166, 0.9035079029052512, 0.9583148474999098, 1.0101525445522108, 1.0594569267279519, 1.1065666703449761, 1.1517511068997928, 1.1952286093343936, 1.2371791482634837, 1.2777531299998797, 1.3170777796132696, 1.3552618543578767, 1.3923991921155663, 1.4285714285714286]\n"
     ]
    }
   ],
   "source": [
    "arr_y = []\n",
    "arr_t = []\n",
    "\n",
    "for i in np.arange(10, -0.5, -0.5):\n",
    "    arr_y.append(i)\n",
    "\n",
    "h = 10\n",
    "g = 9.8\n",
    "\n",
    "for i in np.arange(10, -0.5, -0.5):\n",
    "    y = i\n",
    "    t = math.sqrt((2*(h-y)) / g)\n",
    "    arr_t.append(t)\n",
    "\n",
    "print(arr_t)"
   ]
  },
  {
   "cell_type": "markdown",
   "metadata": {},
   "source": [
    "#### b) Once you have created the arrays for $y$ and $t$, type list(zip(y,t)) at the IPython prompt. Explain the result."
   ]
  },
  {
   "cell_type": "markdown",
   "metadata": {},
   "source": [
    "The result of this command is that it merges the two arrays, y and t, together by creating pairs. The first element in the y array is paired with the first element in the t array, and so on, so that the reselt is an array of ordered pairs. This lets us see what t-values correspond to which y-values and vice versa."
   ]
  }
 ],
 "metadata": {
  "kernelspec": {
   "display_name": "Python 3",
   "language": "python",
   "name": "python3"
  },
  "language_info": {
   "codemirror_mode": {
    "name": "ipython",
    "version": 3
   },
   "file_extension": ".py",
   "mimetype": "text/x-python",
   "name": "python",
   "nbconvert_exporter": "python",
   "pygments_lexer": "ipython3",
   "version": "3.7.1"
  }
 },
 "nbformat": 4,
 "nbformat_minor": 2
}
